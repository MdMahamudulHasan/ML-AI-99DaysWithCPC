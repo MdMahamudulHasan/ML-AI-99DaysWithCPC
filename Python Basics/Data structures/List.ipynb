{
  "nbformat": 4,
  "nbformat_minor": 0,
  "metadata": {
    "colab": {
      "provenance": [],
      "collapsed_sections": [
        "opE3JoO2cXd9",
        "x-xMuRUXdkxz",
        "4kwpgo0GmJ8z",
        "WWnlSCGynuRJ",
        "5tvVItcNpUy4"
      ]
    },
    "kernelspec": {
      "name": "python3",
      "display_name": "Python 3"
    },
    "language_info": {
      "name": "python"
    }
  },
  "cells": [
    {
      "cell_type": "markdown",
      "source": [
        "## Lists\n",
        "\n",
        "---\n",
        "\n"
      ],
      "metadata": {
        "id": "opE3JoO2cXd9"
      }
    },
    {
      "cell_type": "code",
      "execution_count": 1,
      "metadata": {
        "colab": {
          "base_uri": "https://localhost:8080/"
        },
        "id": "w6ez9-jScLJm",
        "outputId": "25e75755-372c-4774-a8dc-bcd35a51926b"
      },
      "outputs": [
        {
          "output_type": "stream",
          "name": "stdout",
          "text": [
            "['apple', 'banana', 'cherry']\n"
          ]
        }
      ],
      "source": [
        "# create and print the list\n",
        "\n",
        "mylist = [\"apple\", \"banana\", \"cherry\"]\n",
        "print(mylist)"
      ]
    },
    {
      "cell_type": "code",
      "source": [
        "# Lists allow duplicate values:\n",
        "\n",
        "mylist = [\"apple\", \"banana\", \"cherry\", \"apple\", \"cherry\"]\n",
        "print(mylist)"
      ],
      "metadata": {
        "colab": {
          "base_uri": "https://localhost:8080/"
        },
        "id": "N-xVrv9ucg9N",
        "outputId": "a58e8b2a-c91d-4581-c12d-967a0c72f14b"
      },
      "execution_count": 2,
      "outputs": [
        {
          "output_type": "stream",
          "name": "stdout",
          "text": [
            "['apple', 'banana', 'cherry', 'apple', 'cherry']\n"
          ]
        }
      ]
    },
    {
      "cell_type": "code",
      "source": [
        "# List Length\n",
        "\n",
        "mylist = [\"apple\", \"banana\", \"cherry\", \"apple\", \"cherry\"]\n",
        "print(len(mylist))"
      ],
      "metadata": {
        "colab": {
          "base_uri": "https://localhost:8080/"
        },
        "id": "fXMf6dtKcxG8",
        "outputId": "5ff51bbc-120a-4ec2-f5b0-2362505ce4f1"
      },
      "execution_count": 3,
      "outputs": [
        {
          "output_type": "stream",
          "name": "stdout",
          "text": [
            "5\n"
          ]
        }
      ]
    },
    {
      "cell_type": "code",
      "source": [
        "# List Items - Data Types\n",
        "\n",
        "list1 = [\"apple\", \"banana\", \"cherry\"]\n",
        "list2 = [1, 5, 7, 9, 3]\n",
        "list3 = [True, False, False]\n",
        "\n",
        "print(list1)\n",
        "print(list2)\n",
        "print(list3)"
      ],
      "metadata": {
        "colab": {
          "base_uri": "https://localhost:8080/"
        },
        "id": "pYo0qQIRdFLc",
        "outputId": "6c8ad812-db91-4854-d74c-2bfe6fa1a223"
      },
      "execution_count": 4,
      "outputs": [
        {
          "output_type": "stream",
          "name": "stdout",
          "text": [
            "['apple', 'banana', 'cherry']\n",
            "[1, 5, 7, 9, 3]\n",
            "[True, False, False]\n"
          ]
        }
      ]
    },
    {
      "cell_type": "code",
      "source": [
        "# A list with strings, integers and boolean values:\n",
        "\n",
        "list1 = [\"abc\", 34, True, 40, \"male\"]\n",
        "print(list1)"
      ],
      "metadata": {
        "colab": {
          "base_uri": "https://localhost:8080/"
        },
        "id": "10Wc45PbdNVF",
        "outputId": "ec0d2dc9-e201-4b12-bd22-c4912b380450"
      },
      "execution_count": 5,
      "outputs": [
        {
          "output_type": "stream",
          "name": "stdout",
          "text": [
            "['abc', 34, True, 40, 'male']\n"
          ]
        }
      ]
    },
    {
      "cell_type": "markdown",
      "source": [
        "## Access List Items\n",
        "\n",
        "---\n",
        "\n"
      ],
      "metadata": {
        "id": "x-xMuRUXdkxz"
      }
    },
    {
      "cell_type": "code",
      "source": [
        "# Access Items\n",
        "# Print the second item of the list:\n",
        "\n",
        "thislist = [\"apple\", \"banana\", \"cherry\"]\n",
        "print(thislist[1])"
      ],
      "metadata": {
        "colab": {
          "base_uri": "https://localhost:8080/"
        },
        "id": "7LePjDeOdfiD",
        "outputId": "a776f732-0018-49ff-8413-422f746d78a8"
      },
      "execution_count": 6,
      "outputs": [
        {
          "output_type": "stream",
          "name": "stdout",
          "text": [
            "banana\n"
          ]
        }
      ]
    },
    {
      "cell_type": "code",
      "source": [
        "# Negative Indexing\n",
        "# Negative indexing means start from the end\n",
        "\n",
        "thislist = [\"apple\", \"banana\", \"cherry\"]\n",
        "print(thislist[-1])"
      ],
      "metadata": {
        "colab": {
          "base_uri": "https://localhost:8080/"
        },
        "id": "3kYBucHMkmoF",
        "outputId": "eb0be7aa-6709-4e60-8b03-fcb6a4a527af"
      },
      "execution_count": 7,
      "outputs": [
        {
          "output_type": "stream",
          "name": "stdout",
          "text": [
            "cherry\n"
          ]
        }
      ]
    },
    {
      "cell_type": "code",
      "source": [
        "thislist = [\"apple\", \"banana\", \"cherry\", \"orange\", \"kiwi\", \"melon\", \"mango\"]\n",
        "\n",
        "# access with positive indexing\n",
        "print(thislist[2:5])\n",
        "print(thislist[ :4])\n",
        "print(thislist[2: ])\n",
        "\n",
        "# access with negative indexing\n",
        "print(thislist[-4:-1])"
      ],
      "metadata": {
        "colab": {
          "base_uri": "https://localhost:8080/"
        },
        "id": "NbzbFSaEkyp9",
        "outputId": "6d3296df-a60e-4e62-90dd-86b70cb743b2"
      },
      "execution_count": 11,
      "outputs": [
        {
          "output_type": "stream",
          "name": "stdout",
          "text": [
            "['cherry', 'orange', 'kiwi']\n",
            "['apple', 'banana', 'cherry', 'orange']\n",
            "['cherry', 'orange', 'kiwi', 'melon', 'mango']\n",
            "['orange', 'kiwi', 'melon']\n"
          ]
        }
      ]
    },
    {
      "cell_type": "code",
      "source": [
        "# Check if Item Exists\n",
        "# Check if \"apple\" is present in the list:\n",
        "\n",
        "if \"apple\" in thislist:\n",
        "  print(\"Yes, 'apple' is in the fruits list\")\n"
      ],
      "metadata": {
        "colab": {
          "base_uri": "https://localhost:8080/"
        },
        "id": "FUHd2TWwlDvM",
        "outputId": "1cd03c18-0380-4538-d7cb-6dd107e301c1"
      },
      "execution_count": 12,
      "outputs": [
        {
          "output_type": "stream",
          "name": "stdout",
          "text": [
            "Yes, 'apple' is in the fruits list\n"
          ]
        }
      ]
    },
    {
      "cell_type": "markdown",
      "source": [
        "## Change List Items\n",
        "\n",
        "---\n",
        "\n"
      ],
      "metadata": {
        "id": "4kwpgo0GmJ8z"
      }
    },
    {
      "cell_type": "code",
      "source": [
        "# Change the second item:\n",
        "\n",
        "thislist = [\"apple\", \"banana\", \"cherry\"]\n",
        "thislist[1] = \"blackcurrant\"\n",
        "\n",
        "print(thislist)"
      ],
      "metadata": {
        "colab": {
          "base_uri": "https://localhost:8080/"
        },
        "id": "keklysGrmJTT",
        "outputId": "3a110fbe-db70-454f-d428-48aa8ddedf1b"
      },
      "execution_count": 13,
      "outputs": [
        {
          "output_type": "stream",
          "name": "stdout",
          "text": [
            "['apple', 'blackcurrant', 'cherry']\n"
          ]
        }
      ]
    },
    {
      "cell_type": "code",
      "source": [
        "# Change the values \"banana\" and \"cherry\" with the values \"blackcurrant\" and \"watermelon\":\n",
        "\n",
        "thislist = [\"apple\", \"banana\", \"cherry\", \"orange\", \"kiwi\", \"mango\"]\n",
        "thislist[1:3] = [\"blackcurrant\", \"watermelon\"]\n",
        "\n",
        "print(thislist)"
      ],
      "metadata": {
        "colab": {
          "base_uri": "https://localhost:8080/"
        },
        "id": "IjA2PIDwmU60",
        "outputId": "abf8b199-ae08-4845-85d4-bef85a67a8d9"
      },
      "execution_count": 14,
      "outputs": [
        {
          "output_type": "stream",
          "name": "stdout",
          "text": [
            "['apple', 'blackcurrant', 'watermelon', 'orange', 'kiwi', 'mango']\n"
          ]
        }
      ]
    },
    {
      "cell_type": "code",
      "source": [
        "# Change the second value by replacing it with two new values:\n",
        "\n",
        "thislist = [\"apple\", \"banana\", \"cherry\"]\n",
        "thislist[1:2] = [\"blackcurrant\", \"watermelon\"]\n",
        "\n",
        "print(thislist)"
      ],
      "metadata": {
        "colab": {
          "base_uri": "https://localhost:8080/"
        },
        "id": "11ZdJ6s4mbFS",
        "outputId": "fae63521-7315-4aa1-dbad-1c547594eb96"
      },
      "execution_count": 15,
      "outputs": [
        {
          "output_type": "stream",
          "name": "stdout",
          "text": [
            "['apple', 'blackcurrant', 'watermelon', 'cherry']\n"
          ]
        }
      ]
    },
    {
      "cell_type": "code",
      "source": [
        "# Insert Items\n",
        "# To insert a new list item, without replacing any of the existing values, we can use the insert() method.\n",
        "# The insert() method inserts an item at the specified index:\n",
        "\n",
        "# Insert \"watermelon\" as the third item:\n",
        "\n",
        "thislist = [\"apple\", \"banana\", \"cherry\"]\n",
        "thislist.insert(2, \"watermelon\")\n",
        "\n",
        "print(thislist)"
      ],
      "metadata": {
        "colab": {
          "base_uri": "https://localhost:8080/"
        },
        "id": "iLQ_CH8UmgU6",
        "outputId": "c3c003e9-9e9f-474e-c562-1a64cb9d93b3"
      },
      "execution_count": 16,
      "outputs": [
        {
          "output_type": "stream",
          "name": "stdout",
          "text": [
            "['apple', 'banana', 'watermelon', 'cherry']\n"
          ]
        }
      ]
    },
    {
      "cell_type": "markdown",
      "source": [
        "## Add List Items\n",
        "\n",
        "---\n",
        "\n"
      ],
      "metadata": {
        "id": "WWnlSCGynuRJ"
      }
    },
    {
      "cell_type": "code",
      "source": [
        "# Using the append() method to append an item:\n",
        "\n",
        "thislist = [\"apple\", \"banana\", \"cherry\"]\n",
        "thislist.append(\"orange\")\n",
        "\n",
        "print(thislist)"
      ],
      "metadata": {
        "colab": {
          "base_uri": "https://localhost:8080/"
        },
        "id": "pxx5t3LCnqoB",
        "outputId": "07ca8a97-9761-4505-aa0e-8eb80db5e451"
      },
      "execution_count": 17,
      "outputs": [
        {
          "output_type": "stream",
          "name": "stdout",
          "text": [
            "['apple', 'banana', 'cherry', 'orange']\n"
          ]
        }
      ]
    },
    {
      "cell_type": "code",
      "source": [
        "# The insert() method inserts an item at the specified index:\n",
        "# Insert an item as the second position:\n",
        "\n",
        "thislist = [\"apple\", \"banana\", \"cherry\"]\n",
        "thislist.insert(1, \"orange\")\n",
        "\n",
        "print(thislist)"
      ],
      "metadata": {
        "colab": {
          "base_uri": "https://localhost:8080/"
        },
        "id": "1QlcfF-0oGVa",
        "outputId": "0080fa63-4f74-4fbc-c744-bc5ab12fafa6"
      },
      "execution_count": 18,
      "outputs": [
        {
          "output_type": "stream",
          "name": "stdout",
          "text": [
            "['apple', 'orange', 'banana', 'cherry']\n"
          ]
        }
      ]
    },
    {
      "cell_type": "code",
      "source": [
        "# Extend List\n",
        "# To append elements from another list to the current list, use the extend() method.\n",
        "\n",
        "# Add the elements of tropical to thislist:\n",
        "\n",
        "thislist = [\"apple\", \"banana\", \"cherry\"]\n",
        "tropical = [\"mango\", \"pineapple\", \"papaya\"]\n",
        "thislist.extend(tropical)\n",
        "\n",
        "print(thislist)"
      ],
      "metadata": {
        "colab": {
          "base_uri": "https://localhost:8080/"
        },
        "id": "uRTJcBORofnB",
        "outputId": "fa6e0ca8-30b3-4dfa-e9a0-c2e6234a8c0b"
      },
      "execution_count": 19,
      "outputs": [
        {
          "output_type": "stream",
          "name": "stdout",
          "text": [
            "['apple', 'banana', 'cherry', 'mango', 'pineapple', 'papaya']\n"
          ]
        }
      ]
    },
    {
      "cell_type": "markdown",
      "source": [
        "## Remove List Items\n",
        "\n",
        "---\n",
        "\n"
      ],
      "metadata": {
        "id": "5tvVItcNpUy4"
      }
    },
    {
      "cell_type": "code",
      "source": [
        "# Remove Specified Item\n",
        "# The remove() method removes the specified item\n",
        "\n",
        "# Remove \"banana\"\n",
        "# If there are more than one item with the specified value, the remove() method removes the first occurrence:\n",
        "thislist = [\"apple\", \"banana\", \"cherry\", \"banana\"]\n",
        "thislist.remove(\"banana\")\n",
        "\n",
        "print(thislist)"
      ],
      "metadata": {
        "colab": {
          "base_uri": "https://localhost:8080/"
        },
        "id": "Ygk-vN0Bo-JP",
        "outputId": "603008ba-d9b3-4c88-d471-6a2a9bf87a4a"
      },
      "execution_count": 21,
      "outputs": [
        {
          "output_type": "stream",
          "name": "stdout",
          "text": [
            "['apple', 'cherry', 'banana']\n"
          ]
        }
      ]
    },
    {
      "cell_type": "code",
      "source": [
        "# Remove Specified Index\n",
        "# The pop() method removes the specified index.\n",
        "\n",
        "# Remove the second item:\n",
        "\n",
        "thislist = [\"apple\", \"banana\", \"cherry\"]\n",
        "thislist.pop(1)\n",
        "\n",
        "print(thislist)"
      ],
      "metadata": {
        "colab": {
          "base_uri": "https://localhost:8080/"
        },
        "id": "YUJWePm7p1uA",
        "outputId": "a3a85bd6-fc5b-4584-86d0-9f3f08893e1f"
      },
      "execution_count": 23,
      "outputs": [
        {
          "output_type": "stream",
          "name": "stdout",
          "text": [
            "['apple', 'cherry']\n"
          ]
        }
      ]
    },
    {
      "cell_type": "code",
      "source": [
        "# If you do not specify the index, the pop() method removes the last item.\n",
        "\n",
        "thislist = [\"apple\", \"banana\", \"cherry\"]\n",
        "thislist.pop()\n",
        "\n",
        "print(thislist)"
      ],
      "metadata": {
        "colab": {
          "base_uri": "https://localhost:8080/"
        },
        "id": "OklX2iootJVN",
        "outputId": "95c3bf18-8d33-4981-c1a5-f26c89504c49"
      },
      "execution_count": 24,
      "outputs": [
        {
          "output_type": "stream",
          "name": "stdout",
          "text": [
            "['apple', 'banana']\n"
          ]
        }
      ]
    },
    {
      "cell_type": "code",
      "source": [
        "# The del keyword also removes the specified index:\n",
        "\n",
        "thislist = [\"apple\", \"banana\", \"cherry\"]\n",
        "del thislist[0]\n",
        "\n",
        "print(thislist)"
      ],
      "metadata": {
        "colab": {
          "base_uri": "https://localhost:8080/"
        },
        "id": "OFRhL_XyteB7",
        "outputId": "b2fdc1f6-b8ab-4141-e643-e846a9a36bb3"
      },
      "execution_count": 25,
      "outputs": [
        {
          "output_type": "stream",
          "name": "stdout",
          "text": [
            "['banana', 'cherry']\n"
          ]
        }
      ]
    },
    {
      "cell_type": "code",
      "source": [
        "# The del Keyword can also delete the list completely.\n",
        "\n",
        "thislist = [\"apple\", \"banana\", \"cherry\"]\n",
        "del thislist\n",
        "\n",
        " # print(thislist)\n",
        " # output will give ERROR\n"
      ],
      "metadata": {
        "id": "pKV8u2x6tufd"
      },
      "execution_count": 28,
      "outputs": []
    },
    {
      "cell_type": "code",
      "source": [
        "# Clear the List\n",
        "# The clear() method empties the list.\n",
        "\n",
        "# The list still remains, but it has no content.\n",
        "\n",
        "thislist = [\"apple\", \"banana\", \"cherry\"]\n",
        "thislist.clear()\n",
        "\n",
        "print(thislist)"
      ],
      "metadata": {
        "colab": {
          "base_uri": "https://localhost:8080/"
        },
        "id": "dicMfzFVuHHb",
        "outputId": "7fe425fc-02cf-46b1-b1c0-b060ebacf8a8"
      },
      "execution_count": 29,
      "outputs": [
        {
          "output_type": "stream",
          "name": "stdout",
          "text": [
            "[]\n"
          ]
        }
      ]
    },
    {
      "cell_type": "markdown",
      "source": [
        "## Loop Lists\n",
        "\n",
        "---\n",
        "\n"
      ],
      "metadata": {
        "id": "QwDPQW5tutqc"
      }
    },
    {
      "cell_type": "code",
      "source": [
        "# Loop Through a List\n",
        "# You can loop through the list items by using a for loop:\n",
        "\n",
        "# Print all items in the list, one by one:\n",
        "\n",
        "thislist = [\"apple\", \"banana\", \"cherry\"]\n",
        "for x in thislist:\n",
        "  print(x)"
      ],
      "metadata": {
        "colab": {
          "base_uri": "https://localhost:8080/"
        },
        "id": "_oxJOzSxuqYK",
        "outputId": "6b787281-d1ae-4c2d-9c43-58e7b4789bad"
      },
      "execution_count": 30,
      "outputs": [
        {
          "output_type": "stream",
          "name": "stdout",
          "text": [
            "apple\n",
            "banana\n",
            "cherry\n"
          ]
        }
      ]
    },
    {
      "cell_type": "code",
      "source": [
        "# Loop Through the Index Numbers\n",
        "# You can also loop through the list items by referring to their index number.\n",
        "\n",
        "# Use the range() and len() functions to create a suitable iterable.\n",
        "\n",
        "thislist = [\"apple\", \"banana\", \"cherry\"]\n",
        "for i in range(len(thislist)):\n",
        "  print(thislist[i])"
      ],
      "metadata": {
        "colab": {
          "base_uri": "https://localhost:8080/"
        },
        "id": "1ilxwGlNvL6a",
        "outputId": "28a4175c-e09d-4343-edbd-c57864fbae06"
      },
      "execution_count": 31,
      "outputs": [
        {
          "output_type": "stream",
          "name": "stdout",
          "text": [
            "apple\n",
            "banana\n",
            "cherry\n"
          ]
        }
      ]
    },
    {
      "cell_type": "code",
      "source": [
        "# Using a While Loop\n",
        "# You can loop through the list items by using a while loop.\n",
        "\n",
        "# Use the len() function to determine the length of the list, then start at 0 and loop your way through the list items by referring to their indexes.\n",
        "\n",
        "thislist = [\"apple\", \"banana\", \"cherry\"]\n",
        "\n",
        "i = 0\n",
        "while i < len(thislist):\n",
        "  print(thislist[i])\n",
        "  i += 1"
      ],
      "metadata": {
        "colab": {
          "base_uri": "https://localhost:8080/"
        },
        "id": "cOqHTPjRvjD5",
        "outputId": "31e24592-6b39-46b8-fa11-5d3d3ca82fb2"
      },
      "execution_count": 32,
      "outputs": [
        {
          "output_type": "stream",
          "name": "stdout",
          "text": [
            "apple\n",
            "banana\n",
            "cherry\n"
          ]
        }
      ]
    },
    {
      "cell_type": "code",
      "source": [
        "# Looping Using List Comprehension\n",
        "# List Comprehension offers the shortest syntax for looping through lists:\n",
        "\n",
        "# A short hand for loop that will print all items in a list:\n",
        "\n",
        "thislist =[\"apple\", \"banana\", \"cherry\"]\n",
        "[print(x) for x in thislist]"
      ],
      "metadata": {
        "colab": {
          "base_uri": "https://localhost:8080/"
        },
        "id": "DT3ezMtHwDYC",
        "outputId": "7a21e802-f9cd-427f-a11b-d044560bdf53"
      },
      "execution_count": 35,
      "outputs": [
        {
          "output_type": "stream",
          "name": "stdout",
          "text": [
            "apple\n",
            "banana\n",
            "cherry\n"
          ]
        },
        {
          "output_type": "execute_result",
          "data": {
            "text/plain": [
              "[None, None, None]"
            ]
          },
          "metadata": {},
          "execution_count": 35
        }
      ]
    }
  ]
}