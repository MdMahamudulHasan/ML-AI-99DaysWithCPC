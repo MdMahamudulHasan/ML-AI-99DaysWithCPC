{
  "nbformat": 4,
  "nbformat_minor": 0,
  "metadata": {
    "colab": {
      "provenance": [],
      "collapsed_sections": [
        "Q8HL7O5wNkI1"
      ]
    },
    "kernelspec": {
      "name": "python3",
      "display_name": "Python 3"
    },
    "language_info": {
      "name": "python"
    }
  },
  "cells": [
    {
      "cell_type": "markdown",
      "source": [
        "## While Loops\n",
        "\n",
        "---\n",
        "\n"
      ],
      "metadata": {
        "id": "Q8HL7O5wNkI1"
      }
    },
    {
      "cell_type": "code",
      "execution_count": 1,
      "metadata": {
        "colab": {
          "base_uri": "https://localhost:8080/"
        },
        "id": "2702l5BtNTAp",
        "outputId": "fc7c64c9-8d1d-4587-b510-b859461c185c"
      },
      "outputs": [
        {
          "output_type": "stream",
          "name": "stdout",
          "text": [
            "1\n",
            "2\n",
            "3\n"
          ]
        }
      ],
      "source": [
        "# The break Statement- > Exit the loop when i is 3:\n",
        "\n",
        "i = 1\n",
        "while i < 6:\n",
        "  print(i)\n",
        "  if i == 3:\n",
        "    break\n",
        "  i +=1"
      ]
    },
    {
      "cell_type": "code",
      "source": [
        "# The else Statement -> With the else statement we can run a block of code once when the condition no longer is true:\n",
        "\n",
        "i = 1\n",
        "while i < 6:\n",
        "  print(i)\n",
        "  i +=1\n",
        "else:\n",
        "  print(\"i is no longer less than 6\")"
      ],
      "metadata": {
        "colab": {
          "base_uri": "https://localhost:8080/"
        },
        "id": "M48lTKHwRJeZ",
        "outputId": "9e5207ec-216d-42ae-906f-af12eeb64576"
      },
      "execution_count": 3,
      "outputs": [
        {
          "output_type": "stream",
          "name": "stdout",
          "text": [
            "1\n",
            "2\n",
            "3\n",
            "4\n",
            "5\n",
            "i is no longer less than 6\n"
          ]
        }
      ]
    },
    {
      "cell_type": "code",
      "source": [
        "# Sum of Numbers\n",
        "\n",
        "total = 0\n",
        "\n",
        "while True:\n",
        "    number = int(input(\"Enter a number (0 to quit): \"))\n",
        "\n",
        "    if number == 0:\n",
        "        break\n",
        "\n",
        "    total += number\n",
        "\n",
        "print(\"Total sum:\", total)"
      ],
      "metadata": {
        "colab": {
          "base_uri": "https://localhost:8080/"
        },
        "id": "EjvJnghXRntv",
        "outputId": "4dd0825e-f5e5-4ea4-c996-8bad846e073a"
      },
      "execution_count": 4,
      "outputs": [
        {
          "output_type": "stream",
          "name": "stdout",
          "text": [
            "Enter a number (0 to quit): 1\n",
            "Enter a number (0 to quit): 10\n",
            "Enter a number (0 to quit): 7\n",
            "Enter a number (0 to quit): 6\n",
            "Enter a number (0 to quit): 5\n",
            "Enter a number (0 to quit): 5\n",
            "Enter a number (0 to quit): 5\n",
            "Enter a number (0 to quit): 5\n",
            "Enter a number (0 to quit): 5\n",
            "Enter a number (0 to quit): 5\n",
            "Enter a number (0 to quit): 0\n",
            "Total sum: 54\n"
          ]
        }
      ]
    },
    {
      "cell_type": "markdown",
      "source": [
        "## For Loops\n",
        "\n",
        "---\n",
        "\n"
      ],
      "metadata": {
        "id": "rBlS5erjS7nv"
      }
    },
    {
      "cell_type": "code",
      "source": [
        "# Print each fruit in a fruit list:\n",
        "\n",
        "fruits = [\"apple\", \"banana\", \"cherry\"]\n",
        "for x in fruits:\n",
        "  print(x)"
      ],
      "metadata": {
        "colab": {
          "base_uri": "https://localhost:8080/"
        },
        "id": "h2VghczaShzu",
        "outputId": "b24eec42-c940-4dba-b8d9-638671eefab6"
      },
      "execution_count": 5,
      "outputs": [
        {
          "output_type": "stream",
          "name": "stdout",
          "text": [
            "apple\n",
            "banana\n",
            "cherry\n"
          ]
        }
      ]
    },
    {
      "cell_type": "code",
      "source": [
        "# Looping Through a String\n",
        "\n",
        "for x in \"banana\":\n",
        "  print(x)"
      ],
      "metadata": {
        "colab": {
          "base_uri": "https://localhost:8080/"
        },
        "id": "GB3HbOWVTDlP",
        "outputId": "4d0c0db9-a781-4344-b523-cad5f46291ff"
      },
      "execution_count": 6,
      "outputs": [
        {
          "output_type": "stream",
          "name": "stdout",
          "text": [
            "b\n",
            "a\n",
            "n\n",
            "a\n",
            "n\n",
            "a\n"
          ]
        }
      ]
    },
    {
      "cell_type": "code",
      "source": [
        "# The break Statement\n",
        "\n",
        "fruits = [\"apple\", \"banana\", \"cherry\"]\n",
        "for x in fruits:\n",
        "  print(x)\n",
        "  if x == \"banana\":\n",
        "    break\n"
      ],
      "metadata": {
        "colab": {
          "base_uri": "https://localhost:8080/"
        },
        "id": "Klb1krpkT3WV",
        "outputId": "96f9515d-8257-4f6b-cce6-ff3d80cadafc"
      },
      "execution_count": 7,
      "outputs": [
        {
          "output_type": "stream",
          "name": "stdout",
          "text": [
            "apple\n",
            "banana\n"
          ]
        }
      ]
    },
    {
      "cell_type": "code",
      "source": [
        "# The range() Function\n",
        "\n",
        "for x in range(2, 30, 3):\n",
        "  print(x)"
      ],
      "metadata": {
        "colab": {
          "base_uri": "https://localhost:8080/"
        },
        "id": "BqX1ETS1U3sU",
        "outputId": "50ed89ee-48a0-47ef-ecb5-0c40f96d6d32"
      },
      "execution_count": 9,
      "outputs": [
        {
          "output_type": "stream",
          "name": "stdout",
          "text": [
            "2\n",
            "5\n",
            "8\n",
            "11\n",
            "14\n",
            "17\n",
            "20\n",
            "23\n",
            "26\n",
            "29\n"
          ]
        }
      ]
    },
    {
      "cell_type": "code",
      "source": [
        "# Else in For Loop\n",
        "\n",
        "for x in range(6):\n",
        "  print(x)\n",
        "else:\n",
        "  print(\"Finally finished\")"
      ],
      "metadata": {
        "colab": {
          "base_uri": "https://localhost:8080/"
        },
        "id": "_07t2oFbVIYd",
        "outputId": "043e2b38-97ce-44e8-df6e-06bf5b9c24c4"
      },
      "execution_count": 10,
      "outputs": [
        {
          "output_type": "stream",
          "name": "stdout",
          "text": [
            "0\n",
            "1\n",
            "2\n",
            "3\n",
            "4\n",
            "5\n",
            "Finally finished\n"
          ]
        }
      ]
    },
    {
      "cell_type": "markdown",
      "source": [
        "## Nested Loops\n",
        "\n",
        "---\n",
        "\n"
      ],
      "metadata": {
        "id": "8jvefxbLV4xr"
      }
    },
    {
      "cell_type": "code",
      "source": [
        "# Print each adjective for every fruit:\n",
        "\n",
        "adj = [\"red\", \"big\", \"tasty\"]\n",
        "fruits = [\"apple\", \"banana\", \"cherry\"]\n",
        "\n",
        "for x in adj:\n",
        "  for y in fruits:\n",
        "    print(x, y)"
      ],
      "metadata": {
        "colab": {
          "base_uri": "https://localhost:8080/"
        },
        "id": "uidRJJxHV0tj",
        "outputId": "52fb22b5-8637-4cc7-c1e4-c324701f6f2a"
      },
      "execution_count": 12,
      "outputs": [
        {
          "output_type": "stream",
          "name": "stdout",
          "text": [
            "red apple\n",
            "red banana\n",
            "red cherry\n",
            "big apple\n",
            "big banana\n",
            "big cherry\n",
            "tasty apple\n",
            "tasty banana\n",
            "tasty cherry\n"
          ]
        }
      ]
    }
  ]
}