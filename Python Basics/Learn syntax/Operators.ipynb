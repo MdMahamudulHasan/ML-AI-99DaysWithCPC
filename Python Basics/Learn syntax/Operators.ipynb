{
  "nbformat": 4,
  "nbformat_minor": 0,
  "metadata": {
    "colab": {
      "provenance": []
    },
    "kernelspec": {
      "name": "python3",
      "display_name": "Python 3"
    },
    "language_info": {
      "name": "python"
    }
  },
  "cells": [
    {
      "cell_type": "markdown",
      "source": [
        "Python divides the operators in the following groups:\n",
        "\n",
        "          Arithmetic operators ( + , - , * , / , % , ** , // )\n",
        "          Assignment operators ( = , += , -= , *= , /= , %= )\n",
        "          Comparison operators ( == , != , > , < , >= , <= )\n",
        "          Logical operators ( and , or , not )\n",
        "          Identity operators ( is , is not )\n",
        "          Membership operators( in , in not )\n",
        "          Bitwise operators ( & , | , ^ , ~ , << , >> )"
      ],
      "metadata": {
        "id": "iEz925l1ASSD"
      }
    },
    {
      "cell_type": "markdown",
      "source": [
        "## Arithmetic operators\n",
        "\n",
        "---\n",
        "\n"
      ],
      "metadata": {
        "id": "Qj8K9rpgCT8Y"
      }
    },
    {
      "cell_type": "code",
      "execution_count": 1,
      "metadata": {
        "colab": {
          "base_uri": "https://localhost:8080/"
        },
        "id": "41OhH9nWAEx-",
        "outputId": "8d165477-77b0-4f0e-f3dc-268cf684b2f7"
      },
      "outputs": [
        {
          "output_type": "stream",
          "name": "stdout",
          "text": [
            "8\n",
            "2\n",
            "15\n",
            "4.0\n",
            "1\n",
            "1\n",
            "32\n",
            "7\n"
          ]
        }
      ],
      "source": [
        "x = 5\n",
        "y = 3\n",
        "print(x + y)\n",
        "\n",
        "x = 5\n",
        "y = 3\n",
        "print(x - y)\n",
        "\n",
        "x = 5\n",
        "y = 3\n",
        "print(x * y)\n",
        "\n",
        "x = 12\n",
        "y = 3\n",
        "print(x / y)\n",
        "\n",
        "x = 5\n",
        "y = 2\n",
        "print(x % y)\n",
        "\n",
        "x = 5\n",
        "y = 2\n",
        "print(x % y)\n",
        "\n",
        "\n",
        "x = 2\n",
        "y = 5\n",
        "print(x ** y)\n",
        "\n",
        "x = 15\n",
        "y = 2\n",
        "print(x // y)"
      ]
    },
    {
      "cell_type": "markdown",
      "source": [
        "## Assignment operators\n",
        "\n",
        "---\n",
        "\n"
      ],
      "metadata": {
        "id": "goMHDj7ODd8m"
      }
    },
    {
      "cell_type": "code",
      "source": [
        "x = 5\n",
        "print(x)\n",
        "\n",
        "x += 3\n",
        "print(x)\n",
        "\n",
        "x -= 3\n",
        "print(x)\n",
        "\n",
        "x *= 3\n",
        "print(x)\n",
        "\n",
        "x /= 3\n",
        "print(x)\n",
        "\n",
        "x %= 3\n",
        "print(x)\n",
        "\n",
        "x //= 3\n",
        "print(x)\n",
        "\n",
        "x **= 3\n",
        "print(x)"
      ],
      "metadata": {
        "colab": {
          "base_uri": "https://localhost:8080/"
        },
        "id": "lbCz843KDZjQ",
        "outputId": "cf783079-0d77-40b7-d336-e73c9544fdb9"
      },
      "execution_count": 4,
      "outputs": [
        {
          "output_type": "stream",
          "name": "stdout",
          "text": [
            "5\n",
            "8\n",
            "5\n",
            "15\n",
            "5.0\n",
            "2.0\n",
            "0.0\n",
            "0.0\n"
          ]
        }
      ]
    },
    {
      "cell_type": "markdown",
      "source": [
        "## Comparison operators\n",
        "\n",
        "---\n",
        "\n"
      ],
      "metadata": {
        "id": "Jnk2e-3YEWUl"
      }
    },
    {
      "cell_type": "code",
      "source": [
        "x = 5\n",
        "y = 3\n",
        "print(x == y)\n",
        "\n",
        "x = 5\n",
        "y = 3\n",
        "print(x != y)\n",
        "\n",
        "x = 5\n",
        "y = 3\n",
        "print(x > y)\n",
        "\n",
        "x = 5\n",
        "y = 3\n",
        "print(x < y)\n",
        "\n",
        "x = 5\n",
        "y = 3\n",
        "print(x >= y)\n",
        "\n",
        "x = 5\n",
        "y = 3\n",
        "print(x <= y)"
      ],
      "metadata": {
        "colab": {
          "base_uri": "https://localhost:8080/"
        },
        "id": "qEqFaF64ESpV",
        "outputId": "17be9c0b-44c7-43b5-8a9f-acda808deac6"
      },
      "execution_count": 5,
      "outputs": [
        {
          "output_type": "stream",
          "name": "stdout",
          "text": [
            "False\n",
            "True\n",
            "True\n",
            "False\n",
            "True\n",
            "False\n"
          ]
        }
      ]
    },
    {
      "cell_type": "markdown",
      "source": [
        "## Logical operators\n",
        "\n",
        "---\n",
        "\n"
      ],
      "metadata": {
        "id": "0_q0TH97E75d"
      }
    },
    {
      "cell_type": "code",
      "source": [
        "x = 5\n",
        "print(x > 3 and x < 10)\n",
        "\n",
        "x = 5\n",
        "print(x > 3 or x < 4)\n",
        "\n",
        "x = 5\n",
        "print(not(x > 3 and x < 10))\n"
      ],
      "metadata": {
        "colab": {
          "base_uri": "https://localhost:8080/"
        },
        "id": "6wYGF6r8E4uP",
        "outputId": "d8d28477-ba31-4697-c5b3-c3e6061a86ae"
      },
      "execution_count": 6,
      "outputs": [
        {
          "output_type": "stream",
          "name": "stdout",
          "text": [
            "True\n",
            "True\n",
            "False\n"
          ]
        }
      ]
    },
    {
      "cell_type": "markdown",
      "source": [
        "## Identity operators\n",
        "\n",
        "---\n",
        "\n"
      ],
      "metadata": {
        "id": "CAT4wooEFObl"
      }
    },
    {
      "cell_type": "code",
      "source": [
        "x = [\"apple\", \"banana\"]\n",
        "y = [\"apple\", \"banana\"]\n",
        "z = x\n",
        "\n",
        "print(x is z)\n",
        "# z is the same object as x\n",
        "\n",
        "\n",
        "print(x is y)\n",
        "# they have the same content\n",
        "\n",
        "print(x == y)\n",
        "# x is equal to y"
      ],
      "metadata": {
        "colab": {
          "base_uri": "https://localhost:8080/"
        },
        "id": "kJW8VMApFMK9",
        "outputId": "84910075-a9bd-4a28-9d72-d552d83ccdf6"
      },
      "execution_count": 7,
      "outputs": [
        {
          "output_type": "stream",
          "name": "stdout",
          "text": [
            "True\n",
            "False\n",
            "True\n"
          ]
        }
      ]
    },
    {
      "cell_type": "code",
      "source": [
        "x = [\"apple\", \"banana\"]\n",
        "y = [\"apple\", \"banana\"]\n",
        "z = x\n",
        "\n",
        "print(x is not z)\n",
        "# z is the same object as x\n",
        "\n",
        "print(x is not y)\n",
        "# they have the same content\n",
        "\n",
        "print(x != y)\n",
        "# x is equal to y\n"
      ],
      "metadata": {
        "colab": {
          "base_uri": "https://localhost:8080/"
        },
        "id": "UtZneT_ZFwEU",
        "outputId": "0954087e-15dd-433c-c5dd-d7207bcd4fe9"
      },
      "execution_count": 8,
      "outputs": [
        {
          "output_type": "stream",
          "name": "stdout",
          "text": [
            "False\n",
            "True\n",
            "False\n"
          ]
        }
      ]
    },
    {
      "cell_type": "markdown",
      "source": [
        "## Membership operators\n",
        "\n",
        "---\n",
        "\n"
      ],
      "metadata": {
        "id": "Vev1qK_XGFeU"
      }
    },
    {
      "cell_type": "code",
      "source": [
        "x = [\"apple\", \"banana\"]\n",
        "print(\"banana\" in x)\n",
        "\n",
        "\n",
        "x = [\"apple\", \"banana\"]\n",
        "print(\"pineapple\" not in x)"
      ],
      "metadata": {
        "colab": {
          "base_uri": "https://localhost:8080/"
        },
        "id": "DoX6zGsjGEoD",
        "outputId": "3d15e94e-895a-4c30-944b-5c10a93b2ece"
      },
      "execution_count": 10,
      "outputs": [
        {
          "output_type": "stream",
          "name": "stdout",
          "text": [
            "True\n",
            "True\n"
          ]
        }
      ]
    },
    {
      "cell_type": "markdown",
      "source": [
        "## Bitwise operators\n",
        "\n",
        "---\n",
        "\n"
      ],
      "metadata": {
        "id": "OW5suubPGTNb"
      }
    },
    {
      "cell_type": "code",
      "source": [
        "print(6 & 3)\n",
        "\n",
        "print(6 | 3)\n",
        "\n",
        "print(6 ^ 3)\n",
        "\n",
        "print(~3)\n",
        "\n",
        "print(3 << 2)\n",
        "\n",
        "print(8 >> 2)"
      ],
      "metadata": {
        "colab": {
          "base_uri": "https://localhost:8080/"
        },
        "id": "vWEOZVNlGQOK",
        "outputId": "eb752083-10a3-479c-a7f0-1819d60f12f5"
      },
      "execution_count": 11,
      "outputs": [
        {
          "output_type": "stream",
          "name": "stdout",
          "text": [
            "2\n",
            "7\n",
            "5\n",
            "-4\n",
            "12\n",
            "2\n"
          ]
        }
      ]
    },
    {
      "cell_type": "markdown",
      "source": [
        "## Operator Precedence\n",
        "\n",
        "---\n",
        "\n"
      ],
      "metadata": {
        "id": "VBqL19dpHK9a"
      }
    },
    {
      "cell_type": "code",
      "source": [
        "# Parentheses has the highest precedence, meaning that expressions inside parentheses must be evaluated first:\n",
        "\n",
        "print((6 + 3) - (6 + 3))"
      ],
      "metadata": {
        "colab": {
          "base_uri": "https://localhost:8080/"
        },
        "id": "tZqI-W5QHKcL",
        "outputId": "a9793368-a2e8-4e71-9c4f-ed5fd089ed37"
      },
      "execution_count": 12,
      "outputs": [
        {
          "output_type": "stream",
          "name": "stdout",
          "text": [
            "0\n"
          ]
        }
      ]
    },
    {
      "cell_type": "code",
      "source": [
        "# Multiplication * has higher precedence than addition +, and therefor multiplications are evaluated before additions:\n",
        "\n",
        "print(100 + 5 * 3)"
      ],
      "metadata": {
        "colab": {
          "base_uri": "https://localhost:8080/"
        },
        "id": "ezrnEAQsHXba",
        "outputId": "86ba870e-481f-46ed-b145-2c7a8e431d1b"
      },
      "execution_count": 13,
      "outputs": [
        {
          "output_type": "stream",
          "name": "stdout",
          "text": [
            "115\n"
          ]
        }
      ]
    },
    {
      "cell_type": "code",
      "source": [
        "# Addition + and subtraction - has the same precedence, and therefor we evaluate the expression from left to right:\n",
        "\n",
        "print(5 + 4 - 7 + 3)"
      ],
      "metadata": {
        "colab": {
          "base_uri": "https://localhost:8080/"
        },
        "id": "dxRbxGwgHdWK",
        "outputId": "543f8211-6061-457d-8f00-23fea7d8bf82"
      },
      "execution_count": 14,
      "outputs": [
        {
          "output_type": "stream",
          "name": "stdout",
          "text": [
            "5\n"
          ]
        }
      ]
    }
  ]
}