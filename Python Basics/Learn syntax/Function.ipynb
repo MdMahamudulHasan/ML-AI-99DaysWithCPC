{
  "nbformat": 4,
  "nbformat_minor": 0,
  "metadata": {
    "colab": {
      "provenance": []
    },
    "kernelspec": {
      "name": "python3",
      "display_name": "Python 3"
    },
    "language_info": {
      "name": "python"
    }
  },
  "cells": [
    {
      "cell_type": "code",
      "execution_count": 2,
      "metadata": {
        "colab": {
          "base_uri": "https://localhost:8080/"
        },
        "id": "5QCTDjXZY2Kh",
        "outputId": "6bb1c710-5953-40ed-cad8-174ef9bd9726"
      },
      "outputs": [
        {
          "output_type": "stream",
          "name": "stdout",
          "text": [
            "Hello from a function\n"
          ]
        }
      ],
      "source": [
        "# Create and calling a Function\n",
        "\n",
        "def myfunc():\n",
        "  print(\"Hello from a function\")\n",
        "\n",
        "myfunc()"
      ]
    },
    {
      "cell_type": "code",
      "source": [
        "# Arguments\n",
        "\n",
        "def  myfunc(fname):\n",
        "  print(fname + \" Refsnes\")\n",
        "\n",
        "myfunc(\"Emil\")\n",
        "myfunc(\"Tobies\")\n",
        "myfunc(\"Linus\")"
      ],
      "metadata": {
        "colab": {
          "base_uri": "https://localhost:8080/"
        },
        "id": "tNQ1q_YNZNDK",
        "outputId": "4f1979fe-09e3-4077-d303-0703c495f914"
      },
      "execution_count": 3,
      "outputs": [
        {
          "output_type": "stream",
          "name": "stdout",
          "text": [
            "Emil Refsnes\n",
            "Tobies Refsnes\n",
            "Linus Refsnes\n"
          ]
        }
      ]
    },
    {
      "cell_type": "code",
      "source": [
        "# Arguments\n",
        "\n",
        "def myfunc( fname, lname):\n",
        "  print(fname + \" \" + lname)\n",
        "\n",
        "myfunc(\"Emil\", \"Refsnes\")"
      ],
      "metadata": {
        "colab": {
          "base_uri": "https://localhost:8080/"
        },
        "id": "2HVQkq5-Zp33",
        "outputId": "2ad1f82c-c25a-4ba6-ea3a-5ae7cdd804c4"
      },
      "execution_count": 4,
      "outputs": [
        {
          "output_type": "stream",
          "name": "stdout",
          "text": [
            "Emil Refsnes\n"
          ]
        }
      ]
    },
    {
      "cell_type": "code",
      "source": [
        "# Keyword Arguments\n",
        "def myfunc(child3, child2, child1):\n",
        "  print(\"The youngest child is \" + child3)\n",
        "\n",
        "myfunc(child1 = \"Emil\", child2 = \"Tobias\", child3 = \"Linus\")"
      ],
      "metadata": {
        "colab": {
          "base_uri": "https://localhost:8080/"
        },
        "id": "lTZ4dfcGaJXG",
        "outputId": "71cb8ce1-64f9-4f92-a60a-a1e11515de11"
      },
      "execution_count": 5,
      "outputs": [
        {
          "output_type": "stream",
          "name": "stdout",
          "text": [
            "The youngest child is Linus\n"
          ]
        }
      ]
    },
    {
      "cell_type": "code",
      "source": [
        "# Default Parameter Value\n",
        "\n",
        "def myfunc(country = 'Norway'):\n",
        "  print(\"I am from \" + country)\n",
        "\n",
        "myfunc(\"Sweden\")\n",
        "myfunc(\"India\")\n",
        "myfunc()\n",
        "myfunc(\"Brazil\")"
      ],
      "metadata": {
        "colab": {
          "base_uri": "https://localhost:8080/"
        },
        "id": "eZzQCt_uaUDm",
        "outputId": "8a196810-eb1a-4b98-e2a8-c839cd1baf65"
      },
      "execution_count": 6,
      "outputs": [
        {
          "output_type": "stream",
          "name": "stdout",
          "text": [
            "I am from Sweden\n",
            "I am from India\n",
            "I am from Norway\n",
            "I am from Brazil\n"
          ]
        }
      ]
    },
    {
      "cell_type": "code",
      "source": [
        "# Passing a List as an Argument\n",
        "\n",
        "def myfunc(food):\n",
        "  for x in food:\n",
        "    print(x)\n",
        "\n",
        "fruits = [\"apple\", \"banana\", \"cherry\"]\n",
        "\n",
        "myfunc(fruits)"
      ],
      "metadata": {
        "colab": {
          "base_uri": "https://localhost:8080/"
        },
        "id": "Wy2Ckq4Lav-2",
        "outputId": "4bb04cd7-40e0-40c3-c8f8-da2f4897bc7f"
      },
      "execution_count": 7,
      "outputs": [
        {
          "output_type": "stream",
          "name": "stdout",
          "text": [
            "apple\n",
            "banana\n",
            "cherry\n"
          ]
        }
      ]
    },
    {
      "cell_type": "code",
      "source": [
        "# Return Values\n",
        "\n",
        "def myfunc(x):\n",
        "  return 5 * x\n",
        "\n",
        "print(myfunc(3))\n",
        "print(myfunc(5))\n",
        "print(myfunc(9))"
      ],
      "metadata": {
        "colab": {
          "base_uri": "https://localhost:8080/"
        },
        "id": "n7yHGuHtbIl2",
        "outputId": "7fe730ea-a49d-4788-9dd2-cf9f448bb33a"
      },
      "execution_count": 8,
      "outputs": [
        {
          "output_type": "stream",
          "name": "stdout",
          "text": [
            "15\n",
            "25\n",
            "45\n"
          ]
        }
      ]
    },
    {
      "cell_type": "markdown",
      "source": [
        "## Recursion\n",
        "\n",
        "---\n",
        "\n"
      ],
      "metadata": {
        "id": "iR8TtLnIbiPd"
      }
    },
    {
      "cell_type": "code",
      "source": [
        "def tri_recursion(k):\n",
        "  if(k > 0):\n",
        "    result = k + tri_recursion(k - 1)\n",
        "    print(result)\n",
        "  else:\n",
        "    result = 0\n",
        "  return result\n",
        "\n",
        "print(\"Recursion Example Results:\")\n",
        "tri_recursion(6)"
      ],
      "metadata": {
        "colab": {
          "base_uri": "https://localhost:8080/"
        },
        "id": "7btxSdeEba21",
        "outputId": "4f53fe48-e3b3-48f5-d4d1-136bc002508b"
      },
      "execution_count": 9,
      "outputs": [
        {
          "output_type": "stream",
          "name": "stdout",
          "text": [
            "Recursion Example Results:\n",
            "1\n",
            "3\n",
            "6\n",
            "10\n",
            "15\n",
            "21\n"
          ]
        },
        {
          "output_type": "execute_result",
          "data": {
            "text/plain": [
              "21"
            ]
          },
          "metadata": {},
          "execution_count": 9
        }
      ]
    },
    {
      "cell_type": "code",
      "source": [
        "# factorial\n",
        "\n",
        "def factorial(n):\n",
        "    if n == 0 or n == 1:\n",
        "        return 1\n",
        "    else:\n",
        "        return n * factorial(n - 1)\n",
        "\n",
        "number = 5\n",
        "print(f\"The factorial of {number} is {factorial(number)}\")"
      ],
      "metadata": {
        "colab": {
          "base_uri": "https://localhost:8080/"
        },
        "id": "NJCfrCGabopv",
        "outputId": "e9c53d20-9acc-4d66-f964-069c5ae817c9"
      },
      "execution_count": 10,
      "outputs": [
        {
          "output_type": "stream",
          "name": "stdout",
          "text": [
            "The factorial of 5 is 120\n"
          ]
        }
      ]
    }
  ]
}