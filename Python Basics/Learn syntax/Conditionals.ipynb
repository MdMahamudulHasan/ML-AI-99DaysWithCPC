{
  "nbformat": 4,
  "nbformat_minor": 0,
  "metadata": {
    "colab": {
      "provenance": []
    },
    "kernelspec": {
      "name": "python3",
      "display_name": "Python 3"
    },
    "language_info": {
      "name": "python"
    }
  },
  "cells": [
    {
      "cell_type": "markdown",
      "source": [
        "\n",
        "## If\n",
        "\n",
        "---\n",
        "\n",
        "\n",
        "\n"
      ],
      "metadata": {
        "id": "FPI9K0hQJo0Y"
      }
    },
    {
      "cell_type": "code",
      "execution_count": 1,
      "metadata": {
        "colab": {
          "base_uri": "https://localhost:8080/"
        },
        "id": "NkYnuYwrJj3M",
        "outputId": "9f507dfd-ba03-4f9d-98d1-4a808e4410f8"
      },
      "outputs": [
        {
          "output_type": "stream",
          "name": "stdout",
          "text": [
            "b is greater than a\n"
          ]
        }
      ],
      "source": [
        "a = 33\n",
        "b = 200\n",
        "\n",
        "if b > a:\n",
        "  print(\"b is greater than a\")"
      ]
    },
    {
      "cell_type": "markdown",
      "source": [
        "## Elif\n",
        "\n",
        "---\n",
        "\n"
      ],
      "metadata": {
        "id": "rDSYpUVaJ6FQ"
      }
    },
    {
      "cell_type": "code",
      "source": [
        "# The elif keyword is Python's way of saying \"if the previous conditions were not true, then try this condition\".\n",
        "\n",
        "a = 23\n",
        "b = 33\n",
        "if b > a:\n",
        "  print(\"b is greater than a\")\n",
        "elif a == b:\n",
        "  print(\"a and b are equal\")\n",
        ""
      ],
      "metadata": {
        "colab": {
          "base_uri": "https://localhost:8080/"
        },
        "id": "vHZ5WY9wJxsh",
        "outputId": "6587cb56-2a4a-4477-fe38-2dd6faaebc0e"
      },
      "execution_count": 2,
      "outputs": [
        {
          "output_type": "stream",
          "name": "stdout",
          "text": [
            "b is greater than a\n"
          ]
        }
      ]
    },
    {
      "cell_type": "markdown",
      "source": [
        "## Else\n",
        "\n",
        "---\n",
        "\n"
      ],
      "metadata": {
        "id": "9dEym_p0KaLn"
      }
    },
    {
      "cell_type": "code",
      "source": [
        "# The else keyword catches anything which isn't caught by the preceding conditions.\n",
        "\n",
        "a = 200\n",
        "b = 33\n",
        "if b > a:\n",
        "  print(\"b is greater than a\")\n",
        "elif a == b:\n",
        "  print(\"a and b are equal\")\n",
        "else:\n",
        "  print(\"a is greater than a\")\n",
        ""
      ],
      "metadata": {
        "colab": {
          "base_uri": "https://localhost:8080/"
        },
        "id": "0vJb2SWJKYzP",
        "outputId": "631738f3-389e-4453-9a2a-b53e72706af7"
      },
      "execution_count": 3,
      "outputs": [
        {
          "output_type": "stream",
          "name": "stdout",
          "text": [
            "a is greater than a\n"
          ]
        }
      ]
    },
    {
      "cell_type": "markdown",
      "source": [
        "## Short Hand If\n",
        "\n",
        "---\n",
        "\n"
      ],
      "metadata": {
        "id": "lNgVuuRgK7nX"
      }
    },
    {
      "cell_type": "code",
      "source": [
        "a = 200\n",
        "b = 33\n",
        "\n",
        "if a > b : print(\"a is greater than b\")"
      ],
      "metadata": {
        "colab": {
          "base_uri": "https://localhost:8080/"
        },
        "id": "l5uSwsdaK3f4",
        "outputId": "b4486718-6641-4f82-c448-83d836da02bc"
      },
      "execution_count": 4,
      "outputs": [
        {
          "output_type": "stream",
          "name": "stdout",
          "text": [
            "a is greater than b\n"
          ]
        }
      ]
    },
    {
      "cell_type": "markdown",
      "source": [
        "## Short Hand If ... Else\n",
        "\n",
        "---\n",
        "\n"
      ],
      "metadata": {
        "id": "IgkHudoZLPWH"
      }
    },
    {
      "cell_type": "code",
      "source": [
        "a = 2\n",
        "b = 330\n",
        "\n",
        "print(\"A\") if a > b else print(\"B\")\n",
        "# This technique is known as Ternary Operators, or Conditional Expressions."
      ],
      "metadata": {
        "colab": {
          "base_uri": "https://localhost:8080/"
        },
        "id": "rYdIs_n0LJi2",
        "outputId": "6db30fda-ce43-4975-bb85-1670783f1770"
      },
      "execution_count": 5,
      "outputs": [
        {
          "output_type": "stream",
          "name": "stdout",
          "text": [
            "B\n"
          ]
        }
      ]
    },
    {
      "cell_type": "code",
      "source": [
        "# One line if else statement, with 3 conditions:\n",
        "\n",
        "a = 330\n",
        "b = 330\n",
        "\n",
        "print(\"A\") if a > b else print(\"=\") if a == b else print(\"B\")\n"
      ],
      "metadata": {
        "colab": {
          "base_uri": "https://localhost:8080/"
        },
        "id": "lrQKOUYNLXX1",
        "outputId": "8a362664-aec0-425a-a611-dd330a69b6f4"
      },
      "execution_count": 7,
      "outputs": [
        {
          "output_type": "stream",
          "name": "stdout",
          "text": [
            "=\n"
          ]
        }
      ]
    },
    {
      "cell_type": "markdown",
      "source": [
        "## And\n",
        "\n",
        "---\n",
        "\n"
      ],
      "metadata": {
        "id": "WkcVry9hLhrW"
      }
    },
    {
      "cell_type": "code",
      "source": [
        "# Test if a is greater than b, AND if c is greater than a:\n",
        "\n",
        "a = 200\n",
        "b = 33\n",
        "c = 500\n",
        "if a > b and c > a:\n",
        "  print(\"Both conditions are True\")"
      ],
      "metadata": {
        "colab": {
          "base_uri": "https://localhost:8080/"
        },
        "id": "pbbk7S-LLdo-",
        "outputId": "060c6aa5-3158-4215-d560-2dc92f481957"
      },
      "execution_count": 8,
      "outputs": [
        {
          "output_type": "stream",
          "name": "stdout",
          "text": [
            "Both conditions are True\n"
          ]
        }
      ]
    },
    {
      "cell_type": "markdown",
      "source": [
        "## Or\n",
        "\n",
        "---\n",
        "\n"
      ],
      "metadata": {
        "id": "C5HhNiylL2au"
      }
    },
    {
      "cell_type": "code",
      "source": [
        "# Test if a is greater than b, OR if a is greater than c:\n",
        "\n",
        "a = 200\n",
        "b = 33\n",
        "c = 500\n",
        "if a > b or a > c:\n",
        "  print(\"At least one of the conditions is True\")"
      ],
      "metadata": {
        "colab": {
          "base_uri": "https://localhost:8080/"
        },
        "id": "U_a3QiyIL1Qm",
        "outputId": "b2128ddf-5bb9-4a74-f593-313fd215ec5b"
      },
      "execution_count": 9,
      "outputs": [
        {
          "output_type": "stream",
          "name": "stdout",
          "text": [
            "At least one of the conditions is True\n"
          ]
        }
      ]
    },
    {
      "cell_type": "markdown",
      "source": [
        "## Not\n",
        "\n",
        "---\n",
        "\n"
      ],
      "metadata": {
        "id": "9w2UaKbgL-iF"
      }
    },
    {
      "cell_type": "code",
      "source": [
        "# Test if a is NOT greater than b\n",
        "\n",
        "a = 33\n",
        "b = 200\n",
        "if not a > b:\n",
        "  print(\"a is NOT greater than b\")"
      ],
      "metadata": {
        "colab": {
          "base_uri": "https://localhost:8080/"
        },
        "id": "_KZ8WgaxL8vO",
        "outputId": "91bb8104-7aa0-4eb8-806a-27f2578c7684"
      },
      "execution_count": 10,
      "outputs": [
        {
          "output_type": "stream",
          "name": "stdout",
          "text": [
            "a is NOT greater than b\n"
          ]
        }
      ]
    },
    {
      "cell_type": "markdown",
      "source": [
        "## Nested If\n",
        "\n",
        "---\n",
        "\n"
      ],
      "metadata": {
        "id": "g2NR0v4PML4W"
      }
    },
    {
      "cell_type": "code",
      "source": [
        "x = 41\n",
        "\n",
        "if x > 10:\n",
        "  print(\"Above ten,\")\n",
        "  if x > 20:\n",
        "    print(\"and also above 20!\")\n",
        "  else:\n",
        "    print(\"but not above 20.\")"
      ],
      "metadata": {
        "colab": {
          "base_uri": "https://localhost:8080/"
        },
        "id": "xNfEc2KDMKRV",
        "outputId": "5aeceac8-036c-4467-cef6-cdc567dc2f65"
      },
      "execution_count": 11,
      "outputs": [
        {
          "output_type": "stream",
          "name": "stdout",
          "text": [
            "Above ten,\n",
            "and also above 20!\n"
          ]
        }
      ]
    },
    {
      "cell_type": "markdown",
      "source": [
        "## The pass Statement\n",
        "\n",
        "---\n",
        "\n"
      ],
      "metadata": {
        "id": "Z2raIdCdMzYc"
      }
    },
    {
      "cell_type": "code",
      "source": [
        "a = 33\n",
        "b = 200\n",
        "\n",
        "if b > a:\n",
        "  pass\n",
        "\n",
        "# the pass statement to avoid getting an error."
      ],
      "metadata": {
        "id": "hyqBS1_DMTMt"
      },
      "execution_count": 13,
      "outputs": []
    }
  ]
}